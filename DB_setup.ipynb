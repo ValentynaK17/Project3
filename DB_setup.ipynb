{
 "cells": [
  {
   "cell_type": "markdown",
   "id": "064ef857",
   "metadata": {},
   "source": [
    "## Books Database Set Up"
   ]
  },
  {
   "cell_type": "code",
   "execution_count": 28,
   "id": "3ecdd008",
   "metadata": {},
   "outputs": [],
   "source": [
    "# Import dependencies\n",
    "from pymongo import MongoClient\n",
    "from pprint import pprint"
   ]
  },
  {
   "cell_type": "code",
   "execution_count": 23,
   "id": "59390c4a",
   "metadata": {},
   "outputs": [],
   "source": [
    "# Create an instance of MongoClient\n",
    "mongo = MongoClient(port=27017)"
   ]
  },
  {
   "cell_type": "code",
   "execution_count": 24,
   "id": "b4a9af91",
   "metadata": {},
   "outputs": [
    {
     "name": "stdout",
     "output_type": "stream",
     "text": [
      "2023-12-04T21:52:15.864-0500\tconnected to: mongodb://localhost/\n",
      "2023-12-04T21:52:15.865-0500\tdropping: books_db.books\n",
      "2023-12-04T21:52:15.899-0500\t2 document(s) imported successfully. 0 document(s) failed to import.\n",
      "2023-12-04T21:52:16.041-0500\tconnected to: mongodb://localhost/\n",
      "2023-12-04T21:52:16.041-0500\tdropping: books_db.users\n",
      "2023-12-04T21:52:16.074-0500\t2 document(s) imported successfully. 0 document(s) failed to import.\n",
      "2023-12-04T21:52:16.223-0500\tconnected to: mongodb://localhost/\n",
      "2023-12-04T21:52:16.224-0500\tdropping: books_db.ratings\n",
      "2023-12-04T21:52:16.262-0500\t2 document(s) imported successfully. 0 document(s) failed to import.\n"
     ]
    }
   ],
   "source": [
    "!mongoimport --type csv -d books_db -c books --headerline --drop Resources/Books.csv\n",
    "!mongoimport --type csv -d books_db -c users --headerline --drop Resources/Users.csv\n",
    "!mongoimport --type csv -d books_db -c ratings --headerline --drop Resources/Ratings.csv"
   ]
  },
  {
   "cell_type": "code",
   "execution_count": 25,
   "id": "7f9ececa",
   "metadata": {},
   "outputs": [
    {
     "data": {
      "text/plain": [
       "['admin', 'books_db', 'config', 'local', 'met', 'uk_food']"
      ]
     },
     "execution_count": 25,
     "metadata": {},
     "output_type": "execute_result"
    }
   ],
   "source": [
    "# confirm that our new database was created\n",
    "mongo.list_database_names()"
   ]
  },
  {
   "cell_type": "code",
   "execution_count": 26,
   "id": "71e373c1",
   "metadata": {},
   "outputs": [],
   "source": [
    "# assign the uk_food database to a variable name\n",
    "db = mongo['books_db']"
   ]
  },
  {
   "cell_type": "code",
   "execution_count": 27,
   "id": "ef1b89ed",
   "metadata": {},
   "outputs": [
    {
     "data": {
      "text/plain": [
       "['ratings', 'books', 'users']"
      ]
     },
     "execution_count": 27,
     "metadata": {},
     "output_type": "execute_result"
    }
   ],
   "source": [
    "# review the collections in our new database\n",
    "db.list_collection_names()"
   ]
  },
  {
   "cell_type": "code",
   "execution_count": 31,
   "id": "18ab463c",
   "metadata": {},
   "outputs": [],
   "source": [
    "# assign the collection to a variable\n",
    "books=db['books']\n",
    "ratings=db['ratings']\n",
    "users=db['users']"
   ]
  },
  {
   "cell_type": "code",
   "execution_count": 35,
   "id": "bc773df2",
   "metadata": {},
   "outputs": [
    {
     "name": "stdout",
     "output_type": "stream",
     "text": [
      "Example of a record within 'books' collection: \n",
      "{'Book-Author': 'Mark P. O. Morford',\n",
      " 'Book-Title': 'Classical Mythology',\n",
      " 'ISBN': 195153448,\n",
      " 'Publisher': 'Oxford University',\n",
      " 'Year-Of-Publication': 2002,\n",
      " '_id': ObjectId('656e905f47e960c192f944c0')}\n",
      "\n",
      " Example of a record within 'ratings' collection:\n",
      "{'Book-Rating': 2,\n",
      " 'ISBN': 195153448,\n",
      " 'User-ID': 1,\n",
      " '_id': ObjectId('656e9060d0c44eebb0c523d9')}\n",
      "\n",
      " Example of a record within 'users' collection:\n",
      "{'Age': 34,\n",
      " 'Location': 'Mexico',\n",
      " 'User-ID': 2,\n",
      " '_id': ObjectId('656e9060c05552a062fb3c84')}\n"
     ]
    }
   ],
   "source": [
    "print(\"Example of a record within 'books' collection: \")\n",
    "pprint(books.find_one({}))\n",
    "print(\"\\n Example of a record within 'ratings' collection:\")\n",
    "pprint(ratings.find_one({}))\n",
    "print(\"\\n Example of a record within 'users' collection:\")\n",
    "pprint(users.find_one({}))"
   ]
  },
  {
   "cell_type": "code",
   "execution_count": null,
   "id": "35e62f12",
   "metadata": {},
   "outputs": [],
   "source": []
  }
 ],
 "metadata": {
  "kernelspec": {
   "display_name": "Python 3 (ipykernel)",
   "language": "python",
   "name": "python3"
  },
  "language_info": {
   "codemirror_mode": {
    "name": "ipython",
    "version": 3
   },
   "file_extension": ".py",
   "mimetype": "text/x-python",
   "name": "python",
   "nbconvert_exporter": "python",
   "pygments_lexer": "ipython3",
   "version": "3.11.5"
  }
 },
 "nbformat": 4,
 "nbformat_minor": 5
}
