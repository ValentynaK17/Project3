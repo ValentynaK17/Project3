{
 "cells": [
  {
   "cell_type": "markdown",
   "id": "064ef857",
   "metadata": {},
   "source": [
    "## Books Database Set Up"
   ]
  },
  {
   "cell_type": "code",
   "execution_count": 1,
   "id": "3ecdd008",
   "metadata": {},
   "outputs": [],
   "source": [
    "# Import dependencies\n",
    "from pymongo import MongoClient\n",
    "from pprint import pprint"
   ]
  },
  {
   "cell_type": "code",
   "execution_count": 2,
   "id": "59390c4a",
   "metadata": {},
   "outputs": [],
   "source": [
    "# Create an instance of MongoClient\n",
    "mongo = MongoClient(port=27017)"
   ]
  },
  {
   "cell_type": "code",
   "execution_count": 3,
   "id": "b4a9af91",
   "metadata": {},
   "outputs": [
    {
     "name": "stdout",
     "output_type": "stream",
     "text": [
      "2023-12-07T02:12:49.890-0500\tconnected to: mongodb://localhost/\n",
      "2023-12-07T02:12:49.891-0500\tdropping: books_db.books\n",
      "2023-12-07T02:12:49.927-0500\t4 document(s) imported successfully. 0 document(s) failed to import.\n",
      "2023-12-07T02:12:50.068-0500\tconnected to: mongodb://localhost/\n",
      "2023-12-07T02:12:50.068-0500\tdropping: books_db.users\n",
      "2023-12-07T02:12:50.105-0500\t3 document(s) imported successfully. 0 document(s) failed to import.\n",
      "2023-12-07T02:12:50.252-0500\tconnected to: mongodb://localhost/\n",
      "2023-12-07T02:12:50.253-0500\tdropping: books_db.ratings\n",
      "2023-12-07T02:12:50.284-0500\t4 document(s) imported successfully. 0 document(s) failed to import.\n",
      "2023-12-07T02:12:50.435-0500\tconnected to: mongodb://localhost/\n",
      "2023-12-07T02:12:50.435-0500\tdropping: books_db.geodata\n",
      "2023-12-07T02:12:50.470-0500\t1 document(s) imported successfully. 0 document(s) failed to import.\n"
     ]
    }
   ],
   "source": [
    "!mongoimport --type csv -d books_db -c books --headerline --drop Resources/Books.csv\n",
    "!mongoimport --type csv -d books_db -c users --headerline --drop Resources/Users.csv\n",
    "!mongoimport --type csv -d books_db -c ratings --headerline --drop Resources/Ratings.csv\n",
    "!mongoimport --type csv -d books_db -c geodata --headerline --drop Resources/GeoLoc.csv"
   ]
  },
  {
   "cell_type": "code",
   "execution_count": 4,
   "id": "7f9ececa",
   "metadata": {},
   "outputs": [
    {
     "data": {
      "text/plain": [
       "['admin', 'books_db', 'config', 'local', 'met', 'uk_food']"
      ]
     },
     "execution_count": 4,
     "metadata": {},
     "output_type": "execute_result"
    }
   ],
   "source": [
    "# confirm that our new database was created\n",
    "mongo.list_database_names()"
   ]
  },
  {
   "cell_type": "code",
   "execution_count": 5,
   "id": "71e373c1",
   "metadata": {},
   "outputs": [],
   "source": [
    "# assign the uk_food database to a variable name\n",
    "db = mongo['books_db']"
   ]
  },
  {
   "cell_type": "code",
   "execution_count": 6,
   "id": "ef1b89ed",
   "metadata": {},
   "outputs": [
    {
     "data": {
      "text/plain": [
       "['geodata', 'users', 'ratings', 'books']"
      ]
     },
     "execution_count": 6,
     "metadata": {},
     "output_type": "execute_result"
    }
   ],
   "source": [
    "# review the collections in our new database\n",
    "db.list_collection_names()"
   ]
  },
  {
   "cell_type": "code",
   "execution_count": 7,
   "id": "18ab463c",
   "metadata": {},
   "outputs": [],
   "source": [
    "# assign the collection to a variable\n",
    "books=db['books']\n",
    "ratings=db['ratings']\n",
    "users=db['users']\n",
    "geodata=db['geodata']"
   ]
  },
  {
   "cell_type": "code",
   "execution_count": 8,
   "id": "bc773df2",
   "metadata": {},
   "outputs": [
    {
     "name": "stdout",
     "output_type": "stream",
     "text": [
      "Example of a record within 'books' collection: \n",
      "{'Book-Author': 'Mark P. O. Morford',\n",
      " 'Book-Title': 'Classical Mythology',\n",
      " 'ISBN': 195153448,\n",
      " 'Publisher': 'Oxford University',\n",
      " 'Year-Of-Publication': 2002,\n",
      " '_id': ObjectId('657170711b3124e9ccadde87')}\n",
      "\n",
      " Example of a record within 'ratings' collection:\n",
      "{'Book-Rating': 0,\n",
      " 'ISBN': 144,\n",
      " 'User-ID': 3,\n",
      " '_id': ObjectId('657170720024e01a50b52771')}\n",
      "\n",
      " Example of a record within 'users' collection:\n",
      "{'Age': 34,\n",
      " 'Location': 'Mexico',\n",
      " 'User-ID': 2,\n",
      " '_id': ObjectId('65717072e6e46ce6bf183f2c')}\n",
      "\n",
      " Example of a record within 'geodata' collection:\n",
      "{'Lat': 54.235921,\n",
      " 'Long': -4.5147671,\n",
      " '_id': ObjectId('657170720c79923d4bffe3cb'),\n",
      " 'country': 'Mexico'}\n"
     ]
    }
   ],
   "source": [
    "print(\"Example of a record within 'books' collection: \")\n",
    "pprint(books.find_one({}))\n",
    "print(\"\\n Example of a record within 'ratings' collection:\")\n",
    "pprint(ratings.find_one({}))\n",
    "print(\"\\n Example of a record within 'users' collection:\")\n",
    "pprint(users.find_one({}))\n",
    "print(\"\\n Example of a record within 'geodata' collection:\")\n",
    "pprint(geodata.find_one({}))"
   ]
  },
  {
   "cell_type": "code",
   "execution_count": 9,
   "id": "35e62f12",
   "metadata": {},
   "outputs": [],
   "source": [
    "# merge all the data\n",
    "pipeline = [{\n",
    "    '$lookup': {\n",
    "      'from': 'geodata',\n",
    "      'localField': 'Location',\n",
    "      'foreignField': 'country',\n",
    "      'as': 'geo_data'\n",
    "    }},\n",
    "    {\n",
    "    '$project': {\n",
    "      '_id': 0,\n",
    "      'Age': 1,\n",
    "      'Location': 1,\n",
    "      'User-ID': 1,\n",
    "      'Geo-Data': { '$arrayElemAt': ['$geo_data', 0]}\n",
    "    }}]\n",
    "\n",
    "merged_users_geo_cursor=users.aggregate(pipeline)\n",
    "\n",
    "for i in merged_users_geo_cursor:\n",
    "    db['merged_users_geo'].insert_one(i)\n",
    "\n",
    "pipeline = [{\n",
    "    '$lookup': {\n",
    "      'from': 'merged_users_geo',\n",
    "      'localField': 'User-ID',\n",
    "      'foreignField': 'User-ID',\n",
    "      'as': 'user_data'\n",
    "    }},\n",
    "    {\n",
    "    '$project': {\n",
    "      '_id': 0,\n",
    "      'Book-Rating': 1,\n",
    "      'ISBN': 1,\n",
    "      'User-ID': 1,\n",
    "      'User':  { '$arrayElemAt': ['$user_data', 0] }\n",
    "    }}]\n",
    "\n",
    "merged_ratings_users_cursor=ratings.aggregate(pipeline)\n",
    "\n",
    "for i in merged_ratings_users_cursor:\n",
    "    db['merged_ratings_users'].insert_one(i)\n",
    "    \n",
    "pipeline = [{\n",
    "    '$lookup': {\n",
    "      'from': 'merged_ratings_users',\n",
    "      'localField': 'ISBN',\n",
    "      'foreignField': 'ISBN',\n",
    "      'as': 'book_ratings_users'\n",
    "    }\n",
    "  },\n",
    "  {\n",
    "    '$project': {\n",
    "      '_id': 0,\n",
    "      'Book-Author': 1,\n",
    "      'Book-Title': 1,\n",
    "      'ISBN': 1,\n",
    "      'Publisher': 1,\n",
    "      'Year-Of-Publication': 1,\n",
    "      'Ratings': \"$book_ratings_users\"\n",
    "    }\n",
    "  },\n",
    "    {'$unset':['Ratings._id', 'Ratings.User._id', 'Ratings.User.Geo-Data._id']}\n",
    "]\n",
    "merged_cursor=books.aggregate(pipeline)\n",
    "\n",
    "for i in merged_cursor:\n",
    "    db['merged'].insert_one(i)\n",
    "merged=db['merged']\n",
    "    "
   ]
  },
  {
   "cell_type": "code",
   "execution_count": 10,
   "id": "f59855ce",
   "metadata": {},
   "outputs": [
    {
     "name": "stdout",
     "output_type": "stream",
     "text": [
      "Example of a record within 'merged' collection:\n",
      "{'Book-Author': 'Mark P. O. Morford',\n",
      " 'Book-Title': 'Classical Mythology',\n",
      " 'ISBN': 195153448,\n",
      " 'Publisher': 'Oxford University',\n",
      " 'Ratings': [{'Book-Rating': 2,\n",
      "              'ISBN': 195153448,\n",
      "              'User': {'Age': 12, 'Location': 'USA', 'User-ID': 1},\n",
      "              'User-ID': 1}],\n",
      " 'Year-Of-Publication': 2002,\n",
      " '_id': ObjectId('6571707282722cec07174c2b')}\n"
     ]
    }
   ],
   "source": [
    "print(\"Example of a record within 'merged' collection:\")\n",
    "pprint(merged.find_one({}))"
   ]
  },
  {
   "cell_type": "code",
   "execution_count": 11,
   "id": "2b868ecc",
   "metadata": {},
   "outputs": [
    {
     "data": {
      "text/plain": [
       "['geodata',\n",
       " 'users',\n",
       " 'merged_users_geo',\n",
       " 'ratings',\n",
       " 'books',\n",
       " 'merged',\n",
       " 'merged_ratings_users']"
      ]
     },
     "execution_count": 11,
     "metadata": {},
     "output_type": "execute_result"
    }
   ],
   "source": [
    "db.list_collection_names()"
   ]
  },
  {
   "cell_type": "code",
   "execution_count": null,
   "id": "d974f09d",
   "metadata": {},
   "outputs": [],
   "source": []
  }
 ],
 "metadata": {
  "kernelspec": {
   "display_name": "Python 3 (ipykernel)",
   "language": "python",
   "name": "python3"
  },
  "language_info": {
   "codemirror_mode": {
    "name": "ipython",
    "version": 3
   },
   "file_extension": ".py",
   "mimetype": "text/x-python",
   "name": "python",
   "nbconvert_exporter": "python",
   "pygments_lexer": "ipython3",
   "version": "3.11.5"
  }
 },
 "nbformat": 4,
 "nbformat_minor": 5
}
